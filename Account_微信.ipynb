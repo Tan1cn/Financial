{
 "cells": [
  {
   "cell_type": "code",
   "execution_count": 6,
   "metadata": {},
   "outputs": [],
   "source": [
    "import pandas as pd\n",
    "import openpyxl\n",
    "import datetime\n",
    "import os"
   ]
  },
  {
   "cell_type": "code",
   "execution_count": 7,
   "metadata": {},
   "outputs": [],
   "source": [
    "path3 = r'D:\\Python\\Financial\\Data\\微信支付账单(20220921-20221209).csv'\n",
    "\n",
    "path_account = r'D:\\@生活\\台帐\\个人财务管理.xlsx'\n",
    "path_merge = r'本次写入数据.csv'\n"
   ]
  },
  {
   "cell_type": "code",
   "execution_count": 8,
   "metadata": {},
   "outputs": [],
   "source": [
    "def strip_in_data(data):  # 把列名中和数据中首尾的空格都去掉。\n",
    "    data = data.rename(columns={column_name: column_name.strip() for column_name in data.columns})\n",
    "    data = data.applymap(lambda x: x.strip().strip('¥') if isinstance(x, str) else x)\n",
    "    return data"
   ]
  },
  {
   "cell_type": "code",
   "execution_count": 9,
   "metadata": {},
   "outputs": [],
   "source": [
    "def read_data_wx1(path):  # 获取微信数据\n",
    "    wx1 = pd.read_csv(path,header=16, skipfooter=0, encoding='utf_8',encoding_errors='ignore')\n",
    "    wx1.iloc[:, 5] = wx1.iloc[:, 5].str[1:].astype('float64')  # 数据类型更改\n",
    "    for i in wx1.index:       #将收入赋负号\n",
    "        if wx1.iloc[i,4] == '收入':\n",
    "            wx1.iloc[i,5]= - wx1.iloc[i,5]\n",
    "    wx1 = wx1[ ~ wx1['支付方式'].str.contains('银行') ]\n",
    "    wx1 = wx1.iloc[:, [0, 0, 5, 1, 2, 3]]  # 按顺序提取所需列\n",
    "    wx1 = strip_in_data(wx1)  # 去除列名与数值中的空格。\n",
    "    wx1.columns = ['交易日期','交易时间','支出','摘要','对方户名','交易详情']\n",
    "    wx1.insert(3, '收入', \"\")  \n",
    "    wx1.insert(7, '数据来源', \"微信\")# 添加微信来源标识\n",
    "    wx1.iloc[:, 0] = wx1.iloc[:, 0].astype('str')  # 数据类型更改\n",
    "    wx1.iloc[:, 0] = wx1.iloc[:, 0].astype('datetime64')  # 数据类型更改\n",
    "    wx1.iloc[:, 1] = wx1.iloc[:, 1].astype('datetime64')  # 数据类型更改\n",
    "    wx1.iloc[:, 2] = wx1.iloc[:, 2].astype('float64')  # 数据类型更改\n",
    "    wx1.reset_index(drop=True, inplace=True)\n",
    "\n",
    "    for i in wx1.index:       #将“支出/收入”单列转换为支出、收入分别一列\n",
    "        if wx1.iloc[i,2] < 0:\n",
    "            wx1.iloc[i,3]= -wx1.iloc[i,2]\n",
    "            wx1.iloc[i,2]= 0\n",
    "        else:\n",
    "            wx1.iloc[i,3]= 0 \n",
    "    wx1.iloc[:, 3] = wx1.iloc[:, 3].astype('float64')  # 数据类型更改\n",
    "    #print(wx1)\n",
    "    #print(wx1.dtypes)\n",
    "    len2 = len(wx1)\n",
    "    print(\"成功读取 \" + str(len2) + \" 条「微信」账单数据\\n\") \n",
    "    return(wx1)\n"
   ]
  },
  {
   "cell_type": "code",
   "execution_count": 10,
   "metadata": {},
   "outputs": [
    {
     "name": "stdout",
     "output_type": "stream",
     "text": [
      "成功读取 51 条「微信」账单数据\n",
      "\n",
      "\n",
      "「明细」 sheet 页已有 3194 行数据，将在末尾写入数据\n",
      "\n",
      "成功将数据写入到 D:\\@生活\\台帐\\个人财务管理.xlsx\n"
     ]
    }
   ],
   "source": [
    "data_wx1 = read_data_wx1(path3)\n",
    "\n",
    "\n",
    "data_merge = data_wx1\n",
    "merge_list = data_merge.values.tolist()\n",
    "\n",
    "data_merge.to_csv(path_merge)\n",
    "\n",
    "workbook = openpyxl.load_workbook(path_account)  # openpyxl读取账本文件\n",
    "sheet = workbook['财务记录']\n",
    "maxrow = sheet.max_row  # 获取最大行\n",
    "print('\\n「明细」 sheet 页已有 ' + str(maxrow) + ' 行数据，将在末尾写入数据')\n",
    "for row in merge_list:\n",
    "    sheet.append(row)  # openpyxl写文件\n",
    "\n",
    "workbook.save(path_account)  # 保存\n",
    "print(\"\\n成功将数据写入到 \" + path_account)"
   ]
  }
 ],
 "metadata": {
  "kernelspec": {
   "display_name": "Python 3.10.6 64-bit",
   "language": "python",
   "name": "python3"
  },
  "language_info": {
   "codemirror_mode": {
    "name": "ipython",
    "version": 3
   },
   "file_extension": ".py",
   "mimetype": "text/x-python",
   "name": "python",
   "nbconvert_exporter": "python",
   "pygments_lexer": "ipython3",
   "version": "3.10.6"
  },
  "orig_nbformat": 4,
  "vscode": {
   "interpreter": {
    "hash": "5bcf91224d6c4ee5b423592b3414c2e809f31d05c8725ca1c9a94f9424f49e6e"
   }
  }
 },
 "nbformat": 4,
 "nbformat_minor": 2
}
